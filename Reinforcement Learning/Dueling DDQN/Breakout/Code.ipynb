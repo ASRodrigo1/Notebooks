{
 "cells": [
  {
   "cell_type": "code",
   "execution_count": 1,
   "metadata": {
    "colab": {
     "base_uri": "https://localhost:8080/",
     "height": 148
    },
    "id": "7L-roZYztER6",
    "outputId": "8191781b-27ba-49ca-82c4-1c510e9f85a6"
   },
   "outputs": [
    {
     "name": "stdout",
     "output_type": "stream",
     "text": [
      "WARNING:tensorflow:From <ipython-input-1-3c9e7fa5126c>:10: is_gpu_available (from tensorflow.python.framework.test_util) is deprecated and will be removed in a future version.\n",
      "Instructions for updating:\n",
      "Use `tf.config.list_physical_devices('GPU')` instead.\n",
      "Is GPU available? True\n",
      "TF version: 2.3.1\n",
      "Keras version: 2.4.0\n"
     ]
    }
   ],
   "source": [
    "import warnings\n",
    "warnings.simplefilter('ignore')\n",
    "\n",
    "import tensorflow as tf\n",
    "config = tf.compat.v1.ConfigProto()\n",
    "config.gpu_options.allow_growth = True\n",
    "sess = tf.compat.v1.Session(config=config)\n",
    "tf.compat.v1.keras.backend.set_session(sess)\n",
    "\n",
    "print(\"Is GPU available?\", tf.test.is_gpu_available())\n",
    "print(\"TF version:\", tf.__version__)\n",
    "print(\"Keras version:\", tf.keras.__version__)\n",
    "\n",
    "import gym\n",
    "import cv2\n",
    "import os\n",
    "import numpy as np\n",
    "import random\n",
    "import matplotlib.pyplot as plt\n",
    "from collections import deque\n",
    "#from tensorflow.python.keras.backend import set_session\n",
    "from tensorflow.keras.models import Sequential, load_model, Model\n",
    "from tensorflow.keras.layers import Dense, Activation, Conv2D, Flatten\n",
    "from tensorflow.keras.optimizers import Adam\n",
    "\n",
    "#config = tf.compat.v1.ConfigProto()\n",
    "#config.gpu_options.allow_growth = True  # dynamically grow the memory used on the GPU\n",
    "#config.log_device_placement = True  # to log device placement (on which device the operation ran)\n",
    "#sess = tf.compat.v1.Session(config=config)"
   ]
  },
  {
   "cell_type": "code",
   "execution_count": 2,
   "metadata": {
    "id": "FJXyh05AtESM"
   },
   "outputs": [],
   "source": [
    "class NN(Model):\n",
    "    def __init__(self, n_actions, input_shape):\n",
    "        super(NN, self).__init__()\n",
    "            \n",
    "        self.conv1 = Conv2D(filters=64, kernel_size=4, activation='relu', input_shape = (*input_shape, ), data_format='channels_first')\n",
    "        self.conv2 = Conv2D(filters=64, kernel_size=3, activation='relu', data_format='channels_first')\n",
    "        self.conv3 = Conv2D(filters=128, kernel_size=2, activation='relu', data_format='channels_first')\n",
    "        self.flatten = Flatten(data_format='channels_first')\n",
    "        self.dense1 = Dense(128, activation='relu')\n",
    "        self.dense2 = Dense(128, activation='relu')\n",
    "        self.V = Dense(1, activation=None)\n",
    "        self.A = Dense(n_actions, activation=None)\n",
    "    \n",
    "    def call(self, state):\n",
    "        x = self.conv1(state)\n",
    "        x = self.conv2(x)\n",
    "        x = self.conv3(x)\n",
    "        x = self.flatten(x)\n",
    "        x = self.dense1(x)\n",
    "        x = self.dense2(x)\n",
    "        V = self.V(x)\n",
    "        A = self.A(x)\n",
    "        \n",
    "        Q = (V + (A - tf.math.reduce_mean(A, axis=1, keepdims=True)))\n",
    "        \n",
    "        return Q\n",
    "    \n",
    "    def advantage(self, state):\n",
    "        x = self.conv1(state)\n",
    "        x = self.conv2(x)\n",
    "        x = self.conv3(x)\n",
    "        x = self.flatten(x)\n",
    "        x = self.dense1(x)\n",
    "        x = self.dense2(x)\n",
    "        A = self.A(x)\n",
    "        \n",
    "        return A"
   ]
  },
  {
   "cell_type": "code",
   "execution_count": 3,
   "metadata": {
    "id": "HaZrbBNQtEST"
   },
   "outputs": [],
   "source": [
    "class Agent():\n",
    "    def __init__(self, input_shape, n_actions, mem_size, eps, eps_min, eps_dec, gamma, q_eval_name, q_next_name, \n",
    "                 replace_freq, lr=0.0005):\n",
    "        self.Q_eval = NN(n_actions, input_shape)\n",
    "        self.Q_next = NN(n_actions, input_shape)\n",
    "        self.Q_eval.compile(optimizer=Adam(lr=lr), loss='mse')\n",
    "        self.Q_next.compile(optimizer=Adam(lr=lr), loss='mse')\n",
    "        self.memory = deque(maxlen=mem_size)\n",
    "        self.eps = eps\n",
    "        self.eps_min = eps_min\n",
    "        self.eps_dec = eps_dec\n",
    "        self.gamma = gamma\n",
    "        self.replace = replace_freq\n",
    "        self.action_space = [i for i in range(n_actions)]\n",
    "        self.steps = 0\n",
    "        self.input_shape = input_shape\n",
    "        self.q_eval_name = q_eval_name\n",
    "        self.q_next_name = q_next_name\n",
    "    \n",
    "    def store(self, state, action, reward, n_state, done):\n",
    "        pack = [np.expand_dims(state, axis=0), action, reward, np.expand_dims(n_state, axis=0), done]\n",
    "        self.memory.append(pack)\n",
    "    \n",
    "    def take_data(self, batch_size):\n",
    "        pack = random.sample(self.memory, batch_size)\n",
    "        states = []\n",
    "        actions = []\n",
    "        rewards = []\n",
    "        n_states = []\n",
    "        dones = []\n",
    "        for i in range(batch_size):\n",
    "            states.append(pack[i][0])\n",
    "            actions.append(pack[i][1])\n",
    "            rewards.append(pack[i][2])\n",
    "            n_states.append(pack[i][3])\n",
    "            dones.append(pack[i][4])\n",
    "        return states, actions, rewards, n_states, dones\n",
    "    \n",
    "    def choose_action(self, state):\n",
    "        if np.random.random() > self.eps:\n",
    "            return np.argmax(self.Q_eval.advantage(state))\n",
    "        return np.random.choice(self.action_space)\n",
    "    \n",
    "    def decay_eps(self): \n",
    "        self.eps = self.eps - self.eps_dec if self.eps > self.eps_min else self.eps_min\n",
    "    \n",
    "    def replace_weights(self):\n",
    "        if not (self.steps % self.replace):\n",
    "            self.Q_next.set_weights(self.Q_eval.get_weights())\n",
    "    \n",
    "    def upgrade(self, batch_size=64):\n",
    "        if len(self.memory) >= 3*batch_size:\n",
    "            states, actions, rewards, n_states, dones = self.take_data(batch_size)\n",
    "            \n",
    "            self.replace_weights()\n",
    "            \n",
    "            act = [np.argmax(self.Q_eval(n_states[i]).numpy()) for i in range(batch_size)]\n",
    "            q_next = [self.Q_next(n_states[i]).numpy()[0][act[i]] for i in range(batch_size)]\n",
    "            q_target = [self.Q_eval(states[i]).numpy()[0] for i in range(batch_size)]\n",
    "            \n",
    "            for i in range(batch_size):\n",
    "                q_target[i][actions[i]] = rewards[i] + self.gamma*q_next[i]*(1 - dones[i])\n",
    "            \n",
    "            states = np.reshape(states, (batch_size, *self.input_shape))\n",
    "            q_target = np.reshape(q_target, (batch_size, 1, 4))\n",
    "            \n",
    "            self.Q_eval.train_on_batch(states, q_target)\n",
    "            \n",
    "            self.decay_eps()\n",
    "            self.steps += 1\n",
    "\n",
    "    def save(self):\n",
    "        self.Q_eval.save_weights(self.q_eval_name)"
   ]
  },
  {
   "cell_type": "code",
   "execution_count": 4,
   "metadata": {
    "id": "vJX6jZptbUT_"
   },
   "outputs": [],
   "source": [
    "def transform(state):\n",
    "    state = cv2.resize(state, (84, 84))\n",
    "    state = cv2.cvtColor(state, cv2.COLOR_RGB2GRAY)\n",
    "    state = np.reshape(state, (1, 84, 84))\n",
    "    state = np.array(state, np.float32)\n",
    "    return state"
   ]
  },
  {
   "cell_type": "code",
   "execution_count": null,
   "metadata": {
    "colab": {
     "base_uri": "https://localhost:8080/",
     "height": 758
    },
    "id": "YQyLTxoobWrR",
    "outputId": "cf91c589-bf7f-4d4d-f8fb-5f0e71832e64"
   },
   "outputs": [
    {
     "name": "stdout",
     "output_type": "stream",
     "text": [
      "episode:  1    score:  1.0    eps:  0.985\n",
      "episode:  2    score:  0.0    eps:  0.915\n",
      "episode:  3    score:  1.0    eps:  0.851\n",
      "episode:  4    score:  2.0    eps:  0.751\n",
      "episode:  5    score:  4.0    eps:  0.642\n",
      "episode:  6    score:  0.0    eps:  0.580\n",
      "episode:  7    score:  1.0    eps:  0.491\n",
      "episode:  8    score:  2.0    eps:  0.380\n",
      "episode:  9    score:  2.0    eps:  0.253\n",
      "episode:  10    score:  4.0    eps:  0.024\n",
      "episode:  11    score:  2.0    eps:  0.001\n",
      "episode:  12    score:  2.0    eps:  0.001\n",
      "episode:  13    score:  3.0    eps:  0.001\n",
      "episode:  14    score:  0.0    eps:  0.001\n",
      "episode:  15    score:  0.0    eps:  0.001\n",
      "episode:  16    score:  1.0    eps:  0.001\n",
      "episode:  17    score:  0.0    eps:  0.001\n",
      "episode:  18    score:  0.0    eps:  0.001\n",
      "episode:  19    score:  0.0    eps:  0.001\n",
      "episode:  20    score:  0.0    eps:  0.001\n",
      "episode:  21    score:  4.0    eps:  0.001\n",
      "episode:  22    score:  2.0    eps:  0.001\n",
      "episode:  23    score:  0.0    eps:  0.001\n",
      "episode:  24    score:  3.0    eps:  0.001\n",
      "episode:  25    score:  6.0    eps:  0.001\n",
      "episode:  26    score:  1.0    eps:  0.001\n",
      "episode:  27    score:  2.0    eps:  0.001\n",
      "episode:  28    score:  2.0    eps:  0.001\n",
      "episode:  29    score:  0.0    eps:  0.001\n",
      "episode:  30    score:  0.0    eps:  0.001\n"
     ]
    }
   ],
   "source": [
    "env = gym.make('Breakout-v0')\n",
    "n_games = 100\n",
    "agent = Agent(input_shape=(1, 84, 84), n_actions=env.action_space.n, mem_size=20000, eps=1.0, \n",
    "            eps_min=0.001, eps_dec=0.001, gamma=0.99, q_eval_name='Q_eval.h5', q_next_name='Q_next.h5', \n",
    "            replace_freq=500)\n",
    "best_score = -500\n",
    "scores = []\n",
    "means = []\n",
    "eps = []\n",
    "for i in range(n_games):\n",
    "    done = False\n",
    "    state = transform(env.reset())\n",
    "    score = 0\n",
    "    while not done:\n",
    "        action = agent.choose_action(np.expand_dims(state, axis=0))\n",
    "        ### Repeat same action 4 times\n",
    "        for _ in range(4):\n",
    "            n_state, reward, done, _ = env.step(action)\n",
    "            n_state = transform(n_state)\n",
    "            agent.store(state, action, reward, n_state, int(done))\n",
    "            state = n_state\n",
    "            score += reward\n",
    "        agent.upgrade()\n",
    "    scores.append(score)\n",
    "    mean = np.mean(scores[-20:])\n",
    "    means.append(mean)\n",
    "    eps.append(agent.eps)\n",
    "    if mean > best_score:\n",
    "        agent.save()\n",
    "        best_score = mean\n",
    "    print('episode: ', i+1, '   score: ', score, '   eps:  %.3f' %agent.eps)\n",
    "env.close()\n",
    "\n",
    "### This one requires a lot of ime to train\n",
    "### Couldn't upload the weights 'cause the file exceeds github's 100 Mb limit"
   ]
  },
  {
   "cell_type": "code",
   "execution_count": null,
   "metadata": {},
   "outputs": [],
   "source": [
    "plt.plot(means)\n",
    "plt.xlabel('Episodes')\n",
    "plt.ylabel('Mean of the last 20 episodes')\n",
    "plt.grid()"
   ]
  },
  {
   "cell_type": "code",
   "execution_count": null,
   "metadata": {},
   "outputs": [],
   "source": [
    "for _ in range(10):\n",
    "    state = transform(env.reset())\n",
    "    while True:\n",
    "        action = agent.choose_action(np.expand_dims(state, axis=0))\n",
    "        for _ in range(4):\n",
    "            n_state, _, done, _ = env.step(action)\n",
    "            env.render()\n",
    "        state = transform(n_state)"
   ]
  }
 ],
 "metadata": {
  "accelerator": "GPU",
  "colab": {
   "name": "Code.ipynb",
   "provenance": []
  },
  "kernelspec": {
   "display_name": "Python 3",
   "language": "python",
   "name": "python3"
  },
  "language_info": {
   "codemirror_mode": {
    "name": "ipython",
    "version": 3
   },
   "file_extension": ".py",
   "mimetype": "text/x-python",
   "name": "python",
   "nbconvert_exporter": "python",
   "pygments_lexer": "ipython3",
   "version": "3.8.5"
  }
 },
 "nbformat": 4,
 "nbformat_minor": 1
}
