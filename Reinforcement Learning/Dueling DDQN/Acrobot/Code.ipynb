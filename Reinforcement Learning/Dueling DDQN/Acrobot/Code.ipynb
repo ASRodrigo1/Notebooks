{
 "cells": [
  {
   "cell_type": "code",
   "execution_count": 1,
   "metadata": {},
   "outputs": [
    {
     "name": "stdout",
     "output_type": "stream",
     "text": [
      "WARNING:tensorflow:From <ipython-input-1-72f6e39f5424>:4: is_gpu_available (from tensorflow.python.framework.test_util) is deprecated and will be removed in a future version.\n",
      "Instructions for updating:\n",
      "Use `tf.config.list_physical_devices('GPU')` instead.\n",
      "Is GPU available? True\n",
      "TF version: 2.3.1\n",
      "Keras version: 2.4.0\n"
     ]
    }
   ],
   "source": [
    "import warnings\n",
    "warnings.simplefilter('ignore')\n",
    "import tensorflow as tf\n",
    "print(\"Is GPU available?\", tf.test.is_gpu_available())\n",
    "print(\"TF version:\", tf.__version__)\n",
    "print(\"Keras version:\", tf.keras.__version__)"
   ]
  },
  {
   "cell_type": "code",
   "execution_count": 2,
   "metadata": {},
   "outputs": [],
   "source": [
    "import gym\n",
    "import numpy as np\n",
    "import random\n",
    "import matplotlib.pyplot as plt\n",
    "from collections import deque\n",
    "from tensorflow.keras.models import Sequential, load_model, Model\n",
    "from tensorflow.keras.layers import Dense, Activation\n",
    "from tensorflow.keras.optimizers import Adam"
   ]
  },
  {
   "cell_type": "code",
   "execution_count": 3,
   "metadata": {},
   "outputs": [],
   "source": [
    "class NN(Model):\n",
    "    def __init__(self, n_actions, input_shape):\n",
    "        super(NN, self).__init__()\n",
    "        \n",
    "        self.dense1 = Dense(256, activation='relu', input_shape = (*input_shape,))\n",
    "        self.dense2 = Dense(256, activation='relu')\n",
    "        self.V = Dense(1, activation=None)\n",
    "        self.A = Dense(n_actions, activation=None)\n",
    "    \n",
    "    def call(self, state):\n",
    "        x = self.dense1(state)\n",
    "        x = self.dense2(x)\n",
    "        V = self.V(x)\n",
    "        A = self.A(x)\n",
    "        \n",
    "        Q = (V + (A - tf.math.reduce_mean(A, axis=1, keepdims=True)))\n",
    "        \n",
    "        return Q\n",
    "    \n",
    "    def advantage(self, state):\n",
    "        x = self.dense1(state)\n",
    "        x = self.dense2(x)\n",
    "        A = self.A(x)\n",
    "        \n",
    "        return A"
   ]
  },
  {
   "cell_type": "code",
   "execution_count": 4,
   "metadata": {},
   "outputs": [],
   "source": [
    "class Agent():\n",
    "    def __init__(self, input_shape, n_actions, mem_size, eps, eps_min, eps_dec, gamma, q_eval_name, q_next_name, \n",
    "                 replace_freq, lr=0.0005):\n",
    "        self.Q_eval = NN(n_actions, input_shape)\n",
    "        self.Q_next = NN(n_actions, input_shape)\n",
    "        self.Q_eval.compile(optimizer=Adam(lr=lr), loss='mse')\n",
    "        self.Q_next.compile(optimizer=Adam(lr=lr), loss='mse')\n",
    "        self.memory = deque(maxlen=mem_size)\n",
    "        self.eps = eps\n",
    "        self.eps_min = eps_min\n",
    "        self.eps_dec = eps_dec\n",
    "        self.gamma = gamma\n",
    "        self.replace = replace_freq\n",
    "        self.action_space = [i for i in range(n_actions)]\n",
    "        self.steps = 0\n",
    "        self.input_shape = input_shape\n",
    "        self.q_eval_name = q_eval_name\n",
    "        self.q_next_name = q_next_name\n",
    "    \n",
    "    def store(self, state, action, reward, n_state, done):\n",
    "        pack = [np.expand_dims(state, axis=0), action, reward, np.expand_dims(n_state, axis=0), done]\n",
    "        self.memory.append(pack)\n",
    "    \n",
    "    def take_data(self, batch_size):\n",
    "        pack = random.sample(self.memory, batch_size)\n",
    "        states = []\n",
    "        actions = []\n",
    "        rewards = []\n",
    "        n_states = []\n",
    "        dones = []\n",
    "        for i in range(batch_size):\n",
    "            states.append(pack[i][0])\n",
    "            actions.append(pack[i][1])\n",
    "            rewards.append(pack[i][2])\n",
    "            n_states.append(pack[i][3])\n",
    "            dones.append(pack[i][4])\n",
    "        return states, actions, rewards, n_states, dones\n",
    "    \n",
    "    def choose_action(self, state):\n",
    "        if np.random.random() > self.eps:\n",
    "            return np.argmax(self.Q_eval.advantage(state))\n",
    "        return np.random.choice(self.action_space)\n",
    "    \n",
    "    def decay_eps(self): \n",
    "        self.eps = self.eps - self.eps_dec if self.eps > self.eps_min else self.eps_min\n",
    "    \n",
    "    def replace_weights(self):\n",
    "        if not (self.steps % self.replace):\n",
    "            self.Q_next.set_weights(self.Q_eval.get_weights())\n",
    "    \n",
    "    def upgrade(self, batch_size=64):\n",
    "        if len(self.memory) >= 4*batch_size:\n",
    "            states, actions, rewards, n_states, dones = self.take_data(batch_size)\n",
    "            \n",
    "            self.replace_weights()\n",
    "            \n",
    "            act = [np.argmax(self.Q_eval(np.array(n_states[i]))) for i in range(batch_size)]\n",
    "            q_next = [self.Q_next(np.array(n_states[i])).numpy()[0][act[i]] for i in range(batch_size)]\n",
    "            q_target = [self.Q_eval(states[i]).numpy()[0] for i in range(batch_size)]\n",
    "            \n",
    "            for i in range(batch_size):\n",
    "                q_target[i][actions[i]] = rewards[i] + self.gamma*q_next[i]*(1 - dones[i])\n",
    "            \n",
    "            states = np.reshape(states, (batch_size, *self.input_shape))\n",
    "            \n",
    "            self.Q_eval.train_on_batch(np.array(states), np.array(q_target))\n",
    "            \n",
    "            self.decay_eps()\n",
    "            self.steps += 1\n",
    "\n",
    "    def save(self):\n",
    "        self.Q_eval.save_weights(self.q_eval_name)\n",
    "        "
   ]
  },
  {
   "cell_type": "code",
   "execution_count": null,
   "metadata": {
    "scrolled": true
   },
   "outputs": [
    {
     "name": "stdout",
     "output_type": "stream",
     "text": [
      "WARNING:tensorflow:Layer nn is casting an input tensor from dtype float64 to the layer's dtype of float32, which is new behavior in TensorFlow 2.  The layer has dtype float32 because its dtype defaults to floatx.\n",
      "\n",
      "If you intended to run this layer in float32, you can safely ignore this warning. If in doubt, this warning is likely only an issue if you are porting a TensorFlow 1.X model to TensorFlow 2.\n",
      "\n",
      "To change all layers to have dtype float64 by default, call `tf.keras.backend.set_floatx('float64')`. To change just this layer, pass dtype='float64' to the layer constructor. If you are the author of this layer, you can disable autocasting by passing autocast=False to the base Layer constructor.\n",
      "\n",
      "WARNING:tensorflow:Layer nn_1 is casting an input tensor from dtype float64 to the layer's dtype of float32, which is new behavior in TensorFlow 2.  The layer has dtype float32 because its dtype defaults to floatx.\n",
      "\n",
      "If you intended to run this layer in float32, you can safely ignore this warning. If in doubt, this warning is likely only an issue if you are porting a TensorFlow 1.X model to TensorFlow 2.\n",
      "\n",
      "To change all layers to have dtype float64 by default, call `tf.keras.backend.set_floatx('float64')`. To change just this layer, pass dtype='float64' to the layer constructor. If you are the author of this layer, you can disable autocasting by passing autocast=False to the base Layer constructor.\n",
      "\n",
      "WARNING:tensorflow:Layer dense is casting an input tensor from dtype float64 to the layer's dtype of float32, which is new behavior in TensorFlow 2.  The layer has dtype float32 because its dtype defaults to floatx.\n",
      "\n",
      "If you intended to run this layer in float32, you can safely ignore this warning. If in doubt, this warning is likely only an issue if you are porting a TensorFlow 1.X model to TensorFlow 2.\n",
      "\n",
      "To change all layers to have dtype float64 by default, call `tf.keras.backend.set_floatx('float64')`. To change just this layer, pass dtype='float64' to the layer constructor. If you are the author of this layer, you can disable autocasting by passing autocast=False to the base Layer constructor.\n",
      "\n",
      "episode:  1    score:  -500.0    eps:  0.755\n",
      "episode:  2    score:  -500.0    eps:  0.255\n",
      "episode:  3    score:  -500.0    eps:  0.001\n",
      "episode:  4    score:  -500.0    eps:  0.001\n",
      "episode:  5    score:  -500.0    eps:  0.001\n",
      "episode:  6    score:  -500.0    eps:  0.001\n",
      "episode:  7    score:  -500.0    eps:  0.001\n",
      "episode:  8    score:  -500.0    eps:  0.001\n",
      "episode:  9    score:  -500.0    eps:  0.001\n",
      "episode:  10    score:  -362.0    eps:  0.001\n",
      "episode:  11    score:  -286.0    eps:  0.001\n",
      "episode:  12    score:  -209.0    eps:  0.001\n",
      "episode:  13    score:  -311.0    eps:  0.001\n",
      "episode:  14    score:  -296.0    eps:  0.001\n",
      "episode:  15    score:  -352.0    eps:  0.001\n",
      "episode:  16    score:  -500.0    eps:  0.001\n",
      "episode:  17    score:  -500.0    eps:  0.001\n",
      "episode:  18    score:  -500.0    eps:  0.001\n",
      "episode:  19    score:  -500.0    eps:  0.001\n",
      "episode:  20    score:  -500.0    eps:  0.001\n",
      "episode:  21    score:  -500.0    eps:  0.001\n",
      "episode:  22    score:  -500.0    eps:  0.001\n",
      "episode:  23    score:  -500.0    eps:  0.001\n",
      "episode:  24    score:  -285.0    eps:  0.001\n",
      "episode:  25    score:  -283.0    eps:  0.001\n",
      "episode:  26    score:  -252.0    eps:  0.001\n"
     ]
    }
   ],
   "source": [
    "env = gym.make('Acrobot-v1')\n",
    "n_games = 100\n",
    "agent = Agent(input_shape=env.observation_space.shape, n_actions=env.action_space.n, mem_size=10000, eps=1.0, \n",
    "              eps_min=0.001, eps_dec=0.001, gamma=0.99, q_eval_name='Q_eval.h5', q_next_name='Q_next.h5', \n",
    "              replace_freq=500)\n",
    "best_score = -500\n",
    "scores = []\n",
    "means = []\n",
    "eps = []\n",
    "for i in range(n_games):\n",
    "    done = False\n",
    "    state = env.reset()\n",
    "    score = 0\n",
    "    while not done:\n",
    "        action = agent.choose_action(np.expand_dims(state, axis=0))\n",
    "        n_state, reward, done, _ = env.step(action)\n",
    "        score += reward\n",
    "        agent.store(state, action, reward, n_state, int(done))\n",
    "        state = n_state\n",
    "        agent.upgrade()\n",
    "    scores.append(score)\n",
    "    mean = np.mean(scores[-20:])\n",
    "    means.append(mean)\n",
    "    eps.append(agent.eps)\n",
    "    if mean > best_score:\n",
    "        agent.save()\n",
    "        best_score = mean\n",
    "    print('episode: ', i+1, '   score: ', score, '   eps:  %.3f' %agent.eps)\n",
    "env.close()"
   ]
  },
  {
   "cell_type": "code",
   "execution_count": null,
   "metadata": {},
   "outputs": [],
   "source": [
    "plt.plot(scores)\n",
    "plt.grid()\n",
    "plt.show()"
   ]
  },
  {
   "cell_type": "code",
   "execution_count": null,
   "metadata": {
    "scrolled": true
   },
   "outputs": [],
   "source": [
    "plt.plot(means)\n",
    "plt.grid()\n",
    "plt.show()"
   ]
  },
  {
   "cell_type": "code",
   "execution_count": null,
   "metadata": {},
   "outputs": [],
   "source": [
    "plt.plot(eps)\n",
    "plt.grid()\n",
    "plt.show()"
   ]
  },
  {
   "cell_type": "code",
   "execution_count": null,
   "metadata": {},
   "outputs": [],
   "source": [
    "env = gym.make('Acrobot-v1')\n",
    "for i in range(20):\n",
    "    done = False\n",
    "    state = env.reset()\n",
    "    while not done:\n",
    "        env.render()\n",
    "        action = np.argmax(agent.Q_eval.advantage(np.expand_dims(state, axis=0))[0])\n",
    "        n_state, reward, done, _ = env.step(action)\n",
    "        state = n_state\n",
    "env.close()"
   ]
  },
  {
   "cell_type": "code",
   "execution_count": null,
   "metadata": {},
   "outputs": [],
   "source": []
  }
 ],
 "metadata": {
  "kernelspec": {
   "display_name": "Python 3",
   "language": "python",
   "name": "python3"
  },
  "language_info": {
   "codemirror_mode": {
    "name": "ipython",
    "version": 3
   },
   "file_extension": ".py",
   "mimetype": "text/x-python",
   "name": "python",
   "nbconvert_exporter": "python",
   "pygments_lexer": "ipython3",
   "version": "3.8.5"
  }
 },
 "nbformat": 4,
 "nbformat_minor": 4
}
