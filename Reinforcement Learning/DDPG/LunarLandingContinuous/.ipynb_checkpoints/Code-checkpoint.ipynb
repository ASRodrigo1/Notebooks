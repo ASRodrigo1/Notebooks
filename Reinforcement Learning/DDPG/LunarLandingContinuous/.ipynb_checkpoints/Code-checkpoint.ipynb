{
 "cells": [
  {
   "cell_type": "code",
   "execution_count": 5,
   "metadata": {},
   "outputs": [],
   "source": [
    "import gym\n",
    "import random\n",
    "import tensorflow as tf\n",
    "import numpy as np\n",
    "import matplotlib.pyplot as plt\n",
    "from tensorflow.keras import layers\n",
    "from collections import deque"
   ]
  },
  {
   "cell_type": "code",
   "execution_count": 6,
   "metadata": {},
   "outputs": [
    {
     "name": "stdout",
     "output_type": "stream",
     "text": [
      "(3,) (1,) 2.0 -2.0\n"
     ]
    }
   ],
   "source": [
    "problem = 'Pendulum-v0'\n",
    "env = gym.make(problem)\n",
    "\n",
    "num_states = env.observation_space.shape\n",
    "num_actions = env.action_space.shape\n",
    "\n",
    "upper_bound = env.action_space.high[0]\n",
    "lower_bound = env.action_space.low[0]\n",
    "\n",
    "print(num_states, num_actions, upper_bound, lower_bound)"
   ]
  },
  {
   "cell_type": "code",
   "execution_count": 7,
   "metadata": {},
   "outputs": [],
   "source": [
    "class OUActionNoise:\n",
    "    def __init__(self, mean, std_deviation, theta=0.15, dt=1e-2, x_initial=None):\n",
    "        self.theta = theta\n",
    "        self.mean = mean\n",
    "        self.std_dev = std_deviation\n",
    "        self.dt = dt\n",
    "        self.x_initial = x_initial\n",
    "        self.reset()\n",
    "\n",
    "    def __call__(self):\n",
    "        x = (\n",
    "            self.x_prev\n",
    "            + self.theta * (self.mean - self.x_prev) * self.dt\n",
    "            + self.std_dev * np.sqrt(self.dt) * np.random.normal(size=self.mean.shape)\n",
    "        )\n",
    "        self.x_prev = x\n",
    "        return x\n",
    "\n",
    "    def reset(self):\n",
    "        if self.x_initial is not None:\n",
    "            self.x_prev = self.x_initial\n",
    "        else:\n",
    "            self.x_prev = np.zeros_like(self.mean)"
   ]
  },
  {
   "cell_type": "code",
   "execution_count": null,
   "metadata": {},
   "outputs": [],
   "source": [
    "class Buffer():\n",
    "    def __init__(self, max_mem, batch_size):\n",
    "        self.max_mem = max_mem\n",
    "        self.batch_size = batch_size\n",
    "        self.memory = deque(maxlen=self.max_mem)\n",
    "        \n",
    "    def store(self, state, action, reward, n_state, done):\n",
    "        pack = [np.expand_dims(state, axis=0), action, reward, np.expand_dims(n_state, axis=0)]\n",
    "        self.memory.append(pack)\n",
    "    \n",
    "    @tf.function\n",
    "    def update(self, states, actions, rewards, n_states):\n",
    "        with tf.GradientTape() as tape:\n",
    "            target_actions = target_actor(n_states, training=True)\n",
    "            y = rewards + gamma * target_critic([n_states, target_actions])\n",
    "            critic_value = critic_model([states, actions], training=True)\n",
    "            critic_loss = tf.math.reduce_mean(tf.math.square(y - critic_value))\n",
    "        \n",
    "        critic_grad = tape.gradients(critic_loss, critic_model.trainable_variables)\n",
    "        critic_optimizer.apply_gradients(zip(critic_grad, critic_model.trainable_variables))\n",
    "        \n",
    "        with tf.GradientTape() as tape:\n",
    "            acts = actor_model(states, training=True)\n",
    "            critic_value = critic_model([states, actions], training=True)\n",
    "            actor_loss = -tf.math.reduce_mean(critic_value)\n",
    "            \n",
    "        actor_grad = tape.gradient(actor_loss, actor_model.trainable_variables)\n",
    "        actor_optimizer.apply_gradients(zip(actor_grad, actor_model.trainable_variables))\n",
    "    \n",
    "    def learn(self):\n",
    "        if len(self.memory) >= 2*self.batch_size:\n",
    "            pack = random.sample(self.memory, batch_size)\n",
    "            \n",
    "            states = []\n",
    "            actions = []\n",
    "            rewards = []\n",
    "            n_states = []\n",
    "            \n",
    "            for i in range(batch_size):\n",
    "                states.append(pack[i][0])\n",
    "                actions.append(pack[i][1])\n",
    "                rewards.append(pack[i][2])\n",
    "                n_states.append(pack[i][3])\n",
    "            \n",
    "            states = tf.convert_to_tensor(states)\n",
    "            actions = tf.convert_to_tensor(actions)\n",
    "            rewards = tf.cast(rewards, dtype=tf.float32)\n",
    "            n_states = tf.convert_to_tensor(n_states)\n",
    "            \n",
    "            self.update(states, actions, rewards, n_states)\n",
    "        \n",
    "        @tf.function\n",
    "        def update_target(target_weights, weights, tau):\n",
    "            for (a, b) in zip(target_weights, weights):\n",
    "                a.assign(b * tau + a * (1 - tau))"
   ]
  }
 ],
 "metadata": {
  "kernelspec": {
   "display_name": "Python 3",
   "language": "python",
   "name": "python3"
  },
  "language_info": {
   "codemirror_mode": {
    "name": "ipython",
    "version": 3
   },
   "file_extension": ".py",
   "mimetype": "text/x-python",
   "name": "python",
   "nbconvert_exporter": "python",
   "pygments_lexer": "ipython3",
   "version": "3.8.5"
  }
 },
 "nbformat": 4,
 "nbformat_minor": 4
}
