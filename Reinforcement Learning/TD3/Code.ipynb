{
 "cells": [
  {
   "cell_type": "code",
   "execution_count": 1,
   "metadata": {},
   "outputs": [],
   "source": [
    "import warnings\n",
    "warnings.simplefilter('ignore')\n",
    "import tensorflow as tf"
   ]
  },
  {
   "cell_type": "code",
   "execution_count": 2,
   "metadata": {
    "scrolled": true
   },
   "outputs": [
    {
     "name": "stdout",
     "output_type": "stream",
     "text": [
      "WARNING:tensorflow:From <ipython-input-2-ef76775f4c1a>:1: is_gpu_available (from tensorflow.python.framework.test_util) is deprecated and will be removed in a future version.\n",
      "Instructions for updating:\n",
      "Use `tf.config.list_physical_devices('GPU')` instead.\n",
      "Is GPU available? True\n",
      "TF version: 2.3.1\n",
      "Keras version: 2.4.0\n"
     ]
    }
   ],
   "source": [
    "print(\"Is GPU available?\", tf.test.is_gpu_available())\n",
    "print(\"TF version:\", tf.__version__)\n",
    "print(\"Keras version:\", tf.keras.__version__)"
   ]
  },
  {
   "cell_type": "code",
   "execution_count": 3,
   "metadata": {},
   "outputs": [],
   "source": [
    "from tensorflow.keras.models import Model\n",
    "from tensorflow.keras.layers import Dense\n",
    "from tensorflow.keras.optimizers import Adam\n",
    "\n",
    "import numpy as np\n",
    "from collections import deque"
   ]
  },
  {
   "cell_type": "code",
   "execution_count": null,
   "metadata": {},
   "outputs": [],
   "source": []
  },
  {
   "cell_type": "code",
   "execution_count": 4,
   "metadata": {},
   "outputs": [],
   "source": [
    "class Critic(Model):\n",
    "    def __init__(self, beta, input_dims, n_actions, name):\n",
    "        super(Critic, self).__init__()\n",
    "        self.input_dims = input_dims\n",
    "        self.n_actions = n_actions\n",
    "        self.beta = beta\n",
    "        self.name = name\n",
    "        \n",
    "        self.fc1 = Dense(32, input_shape=self.input_dims[0] + n_actions, activation='relu')\n",
    "        self.fc2 = Dense(32, activation='relu')\n",
    "        self.q1 = Dense(1)\n",
    "        \n",
    "        self.optimizer = Adam(lr = self.beta)\n",
    "        \n",
    "    def call(self, state, action):\n",
    "        q1_action_value = self.fc1(np.concatenate((state, action), axis=1))\n",
    "        q1_action_value = self.fc2(q1_action_value)\n",
    "        \n",
    "        q1 = self.q1(q1_action_value)\n",
    "        \n",
    "        return q1"
   ]
  },
  {
   "cell_type": "code",
   "execution_count": 5,
   "metadata": {},
   "outputs": [],
   "source": [
    "class Actor(Model):\n",
    "    def __init__(self, alpha, input_dims, n_actions, name):\n",
    "        super(Actor, self).__init__()\n",
    "        self.input_dims=  input_dims\n",
    "        self.alpha = alpha\n",
    "        self.name = name\n",
    "        self.n_actions = n_actions\n",
    "        \n",
    "        self.fc1 = Dense(32, activation='relu')\n",
    "        self.fc2 = Dense(32, activation='relu')\n",
    "        self.mu = Dense(self.n_actions, activation='tanh')\n",
    "        \n",
    "        self.optimizer = Adam(lr = self.alpha)\n",
    "    \n",
    "    def call(self, state):\n",
    "        prob = self.fc1(state)\n",
    "        prob = self.fc2(prob)\n",
    "        \n",
    "        return prob"
   ]
  },
  {
   "cell_type": "code",
   "execution_count": 2,
   "metadata": {},
   "outputs": [],
   "source": [
    "class Agent():\n",
    "    def __init__(self, alpha, beta, input_dims, tau, env, gamma=0.99, update_actor=2, warmup=1000, n_actions=2, max_size=1000000, batch_size=100, noise=0.1):\n",
    "        self.gamma = gamma\n",
    "        self.tau = tau\n",
    "        self.max_action = env.action_space.high\n",
    "        self.min_action = env.action_space.low\n",
    "        self.memory = deque(maxlen=max_size)\n",
    "        self.batch_size = batch_size\n",
    "        self.learn_step_counter = 0\n",
    "        self.time_step = 0\n",
    "        self.warmup = warmup\n",
    "        self.n_actions = n_actions\n",
    "        self.update_actor = update_actor\n",
    "        \n",
    "        self.actor = Actor(alpha, input_dims, n_actions, 'actor')\n",
    "        self.critic1 = Critic(beta, input_dims, n_actions, 'critic1')\n",
    "        self.critic2 = Critic(beta, input_dims, n_actions, 'critic2')\n",
    "        \n",
    "        self.target_actor = Actor(alpha, input_dims, n_actions, 't_actor')\n",
    "        self.target_critic1 = Critic(beta, input_dims, n_actions, 't_critic1')\n",
    "        self.target_critic2 = Critic(beta, input_dims, n_actions, 't_critic2')\n",
    "        \n",
    "        self.noise = noise\n",
    "        self.update_network_param(tau=1)\n",
    "    \n",
    "    def choose_action(self, obs):\n",
    "        if semf.time_step < self.warmup:\n",
    "            mu = tf.Tensor(np.random.normal(scale=self.noise, size=(self.n_actions,)))\n",
    "        else:\n",
    "            state = tf.Tensor(obs, dtype=tf.float32)\n",
    "            mu = self.actor(state)\n",
    "        mu_prime = mu + tf.Tensor(np.random.normal(scale=self.noise), dtype=tf.float32)\n",
    "        \n",
    "        mu_prime = tf.clip_by_value(mu_prime, self.min_action[0], self.max_action[0])\n",
    "        self.time_step += 1\n",
    "        return mu_prime.numpy()\n",
    "    \n",
    "    def store(self, state, action, reward, n_state, done):\n",
    "        pack = [np.expand_dims(state, axis=0), action, reward, np.expand_dims(n_state, axis=0), done]\n",
    "        self.memory.append(pack)\n",
    "    \n",
    "    def take_data(self, batch_size):\n",
    "        pack = random.sample(self.memory, batch_size)\n",
    "        states = []\n",
    "        actions = []\n",
    "        rewards = []\n",
    "        n_states = []\n",
    "        dones = []\n",
    "        for i in range(batch_size):\n",
    "            states.append(pack[i][0])\n",
    "            actions.append(pack[i][1])\n",
    "            rewards.append(pack[i][2])\n",
    "            n_states.append(pack[i][3])\n",
    "            dones.append(pack[i][4])\n",
    "        return states, actions, rewards, n_states, dones\n",
    "    \n",
    "    def learn(self):\n",
    "        if len(self.memory) >= self.batch_size:\n",
    "        \n",
    "            states, actions, rewards, n_states, dones = self.take_data(self.batch_size)\n",
    "            \n",
    "            target_actions = self.target_actor(np.array(n_states))\n",
    "            target_actions += tf.clip_by_value(np.random.normal(scale=0.2), -0.5, 0.5)\n",
    "            target_actions = tf.clip_by_value(target_actions, self.min_action[0], self.max_action[0])\n",
    "            \n",
    "            q1_ = self.target_critic1([n_states, target_actions])\n",
    "            q2_ = self.target_critic2([n_states, target_actions])\n",
    "            \n",
    "            q1 = self.critic1([states, actions])\n",
    "            q2 = self.critic2([states, actions])\n",
    "            \n",
    "            q1_[dones] = 0.0\n",
    "            q2_[dones] = 0.0\n",
    "            \n",
    "            "
   ]
  },
  {
   "cell_type": "code",
   "execution_count": null,
   "metadata": {},
   "outputs": [],
   "source": []
  }
 ],
 "metadata": {
  "kernelspec": {
   "display_name": "Python 3",
   "language": "python",
   "name": "python3"
  },
  "language_info": {
   "codemirror_mode": {
    "name": "ipython",
    "version": 3
   },
   "file_extension": ".py",
   "mimetype": "text/x-python",
   "name": "python",
   "nbconvert_exporter": "python",
   "pygments_lexer": "ipython3",
   "version": "3.8.5"
  }
 },
 "nbformat": 4,
 "nbformat_minor": 4
}
