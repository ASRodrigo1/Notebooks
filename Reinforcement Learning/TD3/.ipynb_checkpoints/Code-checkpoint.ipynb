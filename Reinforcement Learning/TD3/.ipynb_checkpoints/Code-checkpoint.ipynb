{
 "cells": [
  {
   "cell_type": "code",
   "execution_count": 1,
   "metadata": {},
   "outputs": [],
   "source": [
    "import warnings\n",
    "warnings.simplefilter('ignore')\n",
    "import tensorflow as tf"
   ]
  },
  {
   "cell_type": "code",
   "execution_count": 2,
   "metadata": {
    "scrolled": true
   },
   "outputs": [
    {
     "name": "stdout",
     "output_type": "stream",
     "text": [
      "WARNING:tensorflow:From <ipython-input-2-ef76775f4c1a>:1: is_gpu_available (from tensorflow.python.framework.test_util) is deprecated and will be removed in a future version.\n",
      "Instructions for updating:\n",
      "Use `tf.config.list_physical_devices('GPU')` instead.\n",
      "Is GPU available? True\n",
      "TF version: 2.3.1\n",
      "Keras version: 2.4.0\n"
     ]
    }
   ],
   "source": [
    "print(\"Is GPU available?\", tf.test.is_gpu_available())\n",
    "print(\"TF version:\", tf.__version__)\n",
    "print(\"Keras version:\", tf.keras.__version__)"
   ]
  },
  {
   "cell_type": "code",
   "execution_count": 3,
   "metadata": {},
   "outputs": [],
   "source": [
    "from tensorflow.keras.models import Model\n",
    "from tensorflow.keras.layers import Dense\n",
    "from tensorflow.keras.optimizers import Adam\n",
    "\n",
    "import numpy as np"
   ]
  },
  {
   "cell_type": "code",
   "execution_count": 4,
   "metadata": {},
   "outputs": [],
   "source": [
    "class Critic(Model):\n",
    "    def __init__(self, beta, input_dims, n_actions, name):\n",
    "        super(Critic, self).__init__()\n",
    "        self.input_dims = input_dims\n",
    "        self.n_actions = n_actions\n",
    "        self.beta = beta\n",
    "        self.name = name\n",
    "        \n",
    "        self.fc1 = Dense(32, input_shape=self.input_dims[0] + n_actions, activation='relu')\n",
    "        self.fc2 = Dense(32, activation='relu')\n",
    "        self.q1 = Dense(1)\n",
    "        \n",
    "        self.optimizer = Adam(lr = self.beta)\n",
    "        \n",
    "    def call(self, state, action):\n",
    "        q1_action_value = self.fc1(np.concatenate((state, action), axis=1))\n",
    "        q1_action_value = self.fc2(q1_action_value)\n",
    "        \n",
    "        q1 = self.q1(q1_action_value)\n",
    "        \n",
    "        return q1"
   ]
  },
  {
   "cell_type": "code",
   "execution_count": 5,
   "metadata": {},
   "outputs": [],
   "source": [
    "class Actor(Model):\n",
    "    def __init__(self, alpha, input_dims, n_actions, name):\n",
    "        super(Actor, self).__init__()\n",
    "        self.input_dims=  input_dims\n",
    "        self.alpha = alpha\n",
    "        self.name = name\n",
    "        self.n_actions = n_actions\n",
    "        \n",
    "        self.fc1 = Dense(32, activation='relu')\n",
    "        self.fc2 = Dense(32, activation='relu')\n",
    "        self.mu = Dense(self.n_actions, activation='tanh')\n",
    "        \n",
    "        self.optimizer = Adam(lr = self.alpha)\n",
    "    \n",
    "    def call(self, state):\n",
    "        prob = self.fc1(state)\n",
    "        prob = self.fc2(prob)\n",
    "        \n",
    "        return prob"
   ]
  }
 ],
 "metadata": {
  "kernelspec": {
   "display_name": "Python 3",
   "language": "python",
   "name": "python3"
  },
  "language_info": {
   "codemirror_mode": {
    "name": "ipython",
    "version": 3
   },
   "file_extension": ".py",
   "mimetype": "text/x-python",
   "name": "python",
   "nbconvert_exporter": "python",
   "pygments_lexer": "ipython3",
   "version": "3.8.5"
  }
 },
 "nbformat": 4,
 "nbformat_minor": 4
}
