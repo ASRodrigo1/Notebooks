{
 "cells": [
  {
   "cell_type": "code",
   "execution_count": null,
   "metadata": {},
   "outputs": [],
   "source": [
    "### Ignore warnings and test if some gpu is available\n",
    "import warnings\n",
    "warnings.simplefilter('ignore')\n",
    "import tensorflow as tf\n",
    "tf.test.is_gpu_available()"
   ]
  },
  {
   "cell_type": "code",
   "execution_count": null,
   "metadata": {},
   "outputs": [],
   "source": [
    "import gym\n",
    "import numpy as np\n",
    "import matplotlib.pyplot as plt\n",
    "from tensorflow.keras.models import Sequential, load_model\n",
    "from tensorflow.keras.layers import Dense, Activation\n",
    "from tensorflow.keras.optimizers import Adam"
   ]
  },
  {
   "cell_type": "code",
   "execution_count": null,
   "metadata": {},
   "outputs": [],
   "source": [
    "class Memory():\n",
    "    def __init__(self, mem_size):\n",
    "        self.mem_size = mem_size\n",
    "        self.memory = [None] * self.mem_size\n",
    "        self.mem_pointer = 0\n",
    "    \n",
    "    def store(self, state, action, reward, n_state, done):\n",
    "        pack = [np.expand_dims(state, axis=0), action, reward, np.expand_dims(n_state, axis=0), done]\n",
    "        self.memory[self.mem_pointer] = pack\n",
    "        self.mem_pointer += 1\n",
    "        if self.mem_pointer >= self.mem_size:\n",
    "            self.mem_pointer = 0\n",
    "    \n",
    "    def take_data(self, batch_size):\n",
    "        indices = []\n",
    "        states = []\n",
    "        actions = []\n",
    "        rewards = []\n",
    "        n_states = []\n",
    "        dones = []\n",
    "        for _ in range(batch_size):\n",
    "            i = np.random.choice([i for i in range(self.mem_size)])\n",
    "            while i in indices:\n",
    "                i = np.random.choice([i for i in range(self.mem_size)])\n",
    "            indices.append(i)\n",
    "            states.append(self.memory[i][0])\n",
    "            actions.append(self.memory[i][1])\n",
    "            rewards.append(self.memory[i][2])\n",
    "            n_states.append(self.memory[i][3])\n",
    "            dones.append(self.memory[i][4])\n",
    "        \n",
    "        return states, actions, rewards, n_states, dones"
   ]
  },
  {
   "cell_type": "code",
   "execution_count": null,
   "metadata": {},
   "outputs": [],
   "source": [
    "class NeuralNet():\n",
    "    def __init__(self, name, input_shape, n_actions, lr=0.001):\n",
    "        self.name = name\n",
    "        self.lr = lr\n",
    "        self.n_actions = n_actions\n",
    "        self.input_shape = input_shape\n",
    "        self._build()\n",
    "    \n",
    "    def _build(self):\n",
    "        self.NN = Sequential()\n",
    "        \n",
    "        self.NN.add(Dense(units=16, activation='relu', input_shape=(*self.input_shape, )))\n",
    "        self.NN.add(Dense(units=16, activation='relu'))\n",
    "        self.NN.add(Dense(units=self.n_actions, activation='linear'))\n",
    "        \n",
    "        self.NN.compile(optimizer=Adam(lr=self.lr), loss='mse')\n",
    "        \n",
    "        self.NN.summary()\n",
    "    \n",
    "    def train(self, states, target, batch_size=32):\n",
    "        self.NN.fit(x=states, y=target, batch_size=batch_size, verbose=0, epochs=1, shuffle=False)\n",
    "        \n",
    "    def predict(self, state):\n",
    "        return self.NN.predict(state)\n",
    "        \n",
    "    def save(self):\n",
    "        self.NN.save(self.name)"
   ]
  },
  {
   "cell_type": "code",
   "execution_count": null,
   "metadata": {},
   "outputs": [],
   "source": [
    "class Agent():\n",
    "    def __init__(self, input_shape, n_actions, mem_size, eps, eps_min, eps_dec, gamma, q_eval_name, q_next_name, replace_freq):\n",
    "        self.Q_eval = NeuralNet(q_eval_name, input_shape, n_actions)\n",
    "        self.Q_next = NeuralNet(q_next_name, input_shape, n_actions)\n",
    "        self.memory = Memory(mem_size)\n",
    "        self.eps = eps\n",
    "        self.eps_min = eps_min\n",
    "        self.eps_dec = eps_dec\n",
    "        self.gamma = gamma\n",
    "        self.replace = replace_freq\n",
    "        self.action_space = [i for i in range(n_actions)]\n",
    "        self.steps = 0\n",
    "        self.q_eval_name = q_eval_name\n",
    "        self.q_next_name = q_next_name\n",
    "    \n",
    "    def choose_action(self, state):\n",
    "        if np.random.random() > self.eps:\n",
    "            return np.argmax(self.Q_next.predict(state))\n",
    "        else:\n",
    "            return np.random.choice(self.action_space)\n",
    "    \n",
    "    def decay_eps(self): \n",
    "        self.eps = self.eps**(1/(self.steps)) if self.eps > self.eps_min else self.eps_min\n",
    "    \n",
    "    def replace_weights(self):\n",
    "        if not (self.steps % self.replace):\n",
    "            self.Q_next.NN.set_weights(self.Q_eval.NN.get_weights())\n",
    "    \n",
    "    def upgrade(self, batch_size=32):\n",
    "        if self.memory.memory[-1] is not None:\n",
    "            self.replace_weights()\n",
    "            states, actions, rewards, n_states, dones = self.memory.take_data(batch_size)\n",
    "            for i in range(batch_size):\n",
    "                q_next = np.amax(self.Q_next.predict(n_states[i])[0])\n",
    "                if done:\n",
    "                    q_next = 0.0\n",
    "                q_target = rewards[i] + self.gamma*q_next\n",
    "                y = self.Q_eval.predict(states[i])[0]\n",
    "                y[actions[i]] = q_target\n",
    "                y = np.reshape(y, (1, 2))\n",
    "                self.Q_eval.train(states[i], y)\n",
    "                \n",
    "            self.decay_eps()\n",
    "    \n",
    "    def save(self):\n",
    "        self.Q_eval.save()\n",
    "        self.Q_next.save()"
   ]
  },
  {
   "cell_type": "code",
   "execution_count": null,
   "metadata": {
    "scrolled": true
   },
   "outputs": [],
   "source": [
    "env = gym.make('CartPole-v1')\n",
    "n_games = 1000\n",
    "agent = Agent((4,), 2, 2000, 0.99, 0.1, 0.0001, 0.99, 'Q_eval.h5', 'Q_next.h5', 800)\n",
    "best_score = -100\n",
    "scores = []\n",
    "means = []\n",
    "eps = []\n",
    "for i in range(n_games):\n",
    "    done = False\n",
    "    state = env.reset()\n",
    "    score = 0\n",
    "    while not done:\n",
    "        action = agent.choose_action(np.expand_dims(state, axis=0))\n",
    "        n_state, reward, done, _ = env.step(action)\n",
    "        if done:\n",
    "            reward -= 10\n",
    "        score += reward\n",
    "        agent.steps += 1\n",
    "        agent.memory.store(state, action, reward, n_state, int(done))\n",
    "        agent.upgrade()\n",
    "        state = n_state\n",
    "    scores.append(score)\n",
    "    mean = np.mean(scores[-20:])\n",
    "    means.append(mean)\n",
    "    eps.append(agent.eps)\n",
    "    if mean > best_score:\n",
    "        agent.save()\n",
    "        best_score = mean\n",
    "    print('episode: ', i+1, '   score: ', score, '   eps:  %.2f' %agent.eps)"
   ]
  },
  {
   "cell_type": "code",
   "execution_count": null,
   "metadata": {},
   "outputs": [],
   "source": [
    "plt.plot(scores)\n",
    "plt.grid()\n",
    "plt.show()"
   ]
  },
  {
   "cell_type": "code",
   "execution_count": null,
   "metadata": {},
   "outputs": [],
   "source": [
    "plt.plot(means)\n",
    "plt.grid()\n",
    "plt.show()"
   ]
  },
  {
   "cell_type": "code",
   "execution_count": null,
   "metadata": {},
   "outputs": [],
   "source": [
    "plt.plot(eps)\n",
    "plt.grid()\n",
    "plt.show()"
   ]
  },
  {
   "cell_type": "code",
   "execution_count": null,
   "metadata": {},
   "outputs": [],
   "source": [
    "Q = load_model('Q_next.h5')\n",
    "env = gym.make('CartPole-v1')\n",
    "for i in range(10):\n",
    "    done = False\n",
    "    state = env.reset()\n",
    "    while not done:\n",
    "        env.render()\n",
    "        action = np.argmax(Q.predict(np.expand_dims(state, axis=0))[0])\n",
    "        n_state, reward, done, _ = env.step(action)\n",
    "        state = n_state\n",
    "    env.close()\n",
    "    env = gym.make('CartPole-v1')"
   ]
  },
  {
   "cell_type": "code",
   "execution_count": null,
   "metadata": {},
   "outputs": [],
   "source": []
  }
 ],
 "metadata": {
  "kernelspec": {
   "display_name": "Python 3",
   "language": "python",
   "name": "python3"
  },
  "language_info": {
   "codemirror_mode": {
    "name": "ipython",
    "version": 3
   },
   "file_extension": ".py",
   "mimetype": "text/x-python",
   "name": "python",
   "nbconvert_exporter": "python",
   "pygments_lexer": "ipython3",
   "version": "3.7.8"
  }
 },
 "nbformat": 4,
 "nbformat_minor": 4
}
