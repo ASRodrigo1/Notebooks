{
 "cells": [
  {
   "cell_type": "code",
   "execution_count": 1,
   "metadata": {},
   "outputs": [
    {
     "name": "stdout",
     "output_type": "stream",
     "text": [
      "Is GPU available? True\n",
      "TF version: 1.15.0\n",
      "Keras version: 2.2.4-tf\n"
     ]
    }
   ],
   "source": [
    "import warnings\n",
    "warnings.simplefilter('ignore')\n",
    "import tensorflow as tf\n",
    "print(\"Is GPU available?\", tf.test.is_gpu_available())\n",
    "print(\"TF version:\", tf.__version__)\n",
    "print(\"Keras version:\", tf.keras.__version__)"
   ]
  },
  {
   "cell_type": "code",
   "execution_count": 2,
   "metadata": {},
   "outputs": [],
   "source": [
    "import gym\n",
    "import numpy as np\n",
    "import random\n",
    "import matplotlib.pyplot as plt\n",
    "from collections import deque\n",
    "from tensorflow.keras.models import Sequential, load_model, Model\n",
    "from tensorflow.keras.layers import Dense, Activation\n",
    "from tensorflow.keras.optimizers import Adam"
   ]
  },
  {
   "cell_type": "code",
   "execution_count": 3,
   "metadata": {},
   "outputs": [
    {
     "ename": "SyntaxError",
     "evalue": "invalid syntax (<ipython-input-3-e55da4b40add>, line 5)",
     "output_type": "error",
     "traceback": [
      "\u001b[1;36m  File \u001b[1;32m\"<ipython-input-3-e55da4b40add>\"\u001b[1;36m, line \u001b[1;32m5\u001b[0m\n\u001b[1;33m    self.dense1 = Dense(128, activation='relu', input_shape=*input_shape)\u001b[0m\n\u001b[1;37m                                                            ^\u001b[0m\n\u001b[1;31mSyntaxError\u001b[0m\u001b[1;31m:\u001b[0m invalid syntax\n"
     ]
    }
   ],
   "source": [
    "class NN(Model):\n",
    "    def __init__(self, n_actions):\n",
    "        super(NN, self).__init__()\n",
    "        \n",
    "        self.dense1 = Dense(128, activation='relu', input_shape=*input_shape)\n",
    "        self.dense2 = Dense(128, activation='relu')\n",
    "        self.V = Dense(1, activation=None)\n",
    "        self.A = Dense(n_actions, activation=None)\n",
    "    \n",
    "    def call(self, state):\n",
    "        x = self.dense1(state)\n",
    "        x = self.dense2(x)\n",
    "        V = self.V(x)\n",
    "        A = self.A(x)\n",
    "        \n",
    "        Q = (V + (A - tf.math.reduce_mean(A, axis=1, keepdims=True)))\n",
    "        \n",
    "        return Q\n",
    "    \n",
    "    def advantage(self, state):\n",
    "        x = self.dense1(state)\n",
    "        x = self.dense2(x)\n",
    "        A = self.A(x)\n",
    "        \n",
    "        return A"
   ]
  },
  {
   "cell_type": "code",
   "execution_count": null,
   "metadata": {},
   "outputs": [],
   "source": [
    "class Agent():\n",
    "    def __init__(self, input_shape, n_actions, mem_size, eps, eps_min, eps_dec, gamma, q_eval_name, q_next_name, \n",
    "                 replace_freq, lr=0.001):\n",
    "        self.Q_eval = NN(n_actions, input_shape)\n",
    "        self.Q_next = NN(n_actions, input_shape)\n",
    "        self.Q_eval.compile(optimizer=Adam(lr=lr), loss='mse')\n",
    "        self.Q_next.compile(optimizer=Adam(lr=lr), loss='mse')\n",
    "        self.Q_eval.summary()\n",
    "        self.memory = deque(maxlen=mem_size)\n",
    "        self.eps = eps\n",
    "        self.eps_min = eps_min\n",
    "        self.eps_dec = eps_dec\n",
    "        self.gamma = gamma\n",
    "        self.replace = replace_freq\n",
    "        self.action_space = [i for i in range(n_actions)]\n",
    "        self.steps = 0\n",
    "        self.input_shape = input_shape\n",
    "        self.q_eval_name = q_eval_name\n",
    "        self.q_next_name = q_next_name\n",
    "    \n",
    "    def store(self, state, action, reward, n_state, done):\n",
    "        pack = [np.expand_dims(state, axis=0), action, reward, np.expand_dims(n_state, axis=0), done]\n",
    "        self.memory.append(pack)\n",
    "    \n",
    "    def take_data(self, batch_size):\n",
    "        pack = random.sample(self.memory, batch_size)\n",
    "        states = []\n",
    "        actions = []\n",
    "        rewards = []\n",
    "        n_states = []\n",
    "        dones = []\n",
    "        for i in range(batch_size):\n",
    "            states.append(pack[i][0])\n",
    "            actions.append(pack[i][1])\n",
    "            rewards.append(pack[i][2])\n",
    "            n_states.append(pack[i][3])\n",
    "            dones.append(pack[i][4])\n",
    "        return states, actions, rewards, n_states, dones\n",
    "    \n",
    "    def choose_action(self, state):\n",
    "        if np.random.random() > self.eps:\n",
    "            return np.argmax(self.Q_eval.advantage(state))\n",
    "        return np.random.choice(self.action_space)\n",
    "    \n",
    "    def decay_eps(self): \n",
    "        self.eps = self.eps - self.eps_dec if self.eps > self.eps_min else self.eps_min\n",
    "    \n",
    "    def replace_weights(self):\n",
    "        if not (self.steps % self.replace):\n",
    "            self.Q_next.set_weights(self.Q_eval.get_weights())\n",
    "    \n",
    "    def upgrade(self, batch_size=64):\n",
    "        if len(self.memory) >= 4*batch_size:\n",
    "            states, actions, rewards, n_states, dones = self.take_data(batch_size)\n",
    "            \n",
    "            self.replace_weights()\n",
    "            \n",
    "            q_pred = self.Q_eval(states)\n",
    "            q_next = [np.amax(self.Q_next(n_states[i])) for i in range(batch_size)]\n",
    "            \n",
    "            q_target = np.copy(q_pred)\n",
    "            \n",
    "            for idx, terminal in enumerate(dones):\n",
    "                if terminal:\n",
    "                    q_next[idx] = 0.0\n",
    "                q_target[idx][actions[idx]] = rewards[idx] + self.gamma*q_next[idx]\n",
    "            \n",
    "            states = np.reshape(states, (batch_size, *self.input_shape))\n",
    "            \n",
    "            self.Q_eval.train_on_batch(np.array(states), np.array(y))\n",
    "            \n",
    "            self.decay_eps()\n",
    "            self.steps += 1\n",
    "\n",
    "    def save(self):\n",
    "        self.Q_eval.save_weights(self.q_eval_name)\n",
    "        "
   ]
  },
  {
   "cell_type": "code",
   "execution_count": null,
   "metadata": {
    "scrolled": true
   },
   "outputs": [],
   "source": [
    "env = gym.make('CartPole-v1')\n",
    "n_games = 500\n",
    "agent = Agent(input_shape=env.observation_space.shape, n_actions=env.action_space.n, mem_size=10000, eps=1.0, \n",
    "              eps_min=0.001, eps_dec=0.001, gamma=0.99, q_eval_name='Q_eval.h5', q_next_name='Q_next.h5', \n",
    "              replace_freq=100)\n",
    "best_score = -200\n",
    "scores = []\n",
    "means = []\n",
    "eps = []\n",
    "for i in range(n_games):\n",
    "    done = False\n",
    "    state = env.reset()\n",
    "    score = 0\n",
    "    while not done:\n",
    "        action = agent.choose_action(np.expand_dims(state, axis=0))\n",
    "        n_state, reward, done, _ = env.step(action)\n",
    "        score += reward\n",
    "        agent.store(state, action, reward, n_state, (int(done)))\n",
    "        state = n_state\n",
    "        agent.upgrade()\n",
    "    scores.append(score)\n",
    "    mean = np.mean(scores[-20:])\n",
    "    means.append(mean)\n",
    "    eps.append(agent.eps)\n",
    "    if mean > best_score:\n",
    "        agent.save()\n",
    "        best_score = mean\n",
    "    print('episode: ', i+1, '   score: ', score, '   eps:  %.3f' %agent.eps)\n",
    "    if np.mean(scores[-100:]) > 195:\n",
    "        print(\"Environment Solved!\")\n",
    "        agent.save()\n",
    "        break\n",
    "env.close()"
   ]
  },
  {
   "cell_type": "code",
   "execution_count": null,
   "metadata": {},
   "outputs": [],
   "source": [
    "plt.plot(scores)\n",
    "plt.grid()\n",
    "plt.show()"
   ]
  },
  {
   "cell_type": "code",
   "execution_count": null,
   "metadata": {
    "scrolled": true
   },
   "outputs": [],
   "source": [
    "plt.plot(means)\n",
    "plt.grid()\n",
    "plt.show()"
   ]
  },
  {
   "cell_type": "code",
   "execution_count": null,
   "metadata": {},
   "outputs": [],
   "source": [
    "plt.plot(eps)\n",
    "plt.grid()\n",
    "plt.show()"
   ]
  },
  {
   "cell_type": "code",
   "execution_count": null,
   "metadata": {},
   "outputs": [],
   "source": [
    "Q = load_model('Q_eval.h5')\n",
    "env = gym.make('CartPole-v1')\n",
    "for i in range(20):\n",
    "    done = False\n",
    "    state = env.reset()\n",
    "    while not done:\n",
    "        env.render()\n",
    "        action = np.argmax(Q.predict(np.expand_dims(state, axis=0))[0])\n",
    "        n_state, reward, done, _ = env.step(action)\n",
    "        state = n_state\n",
    "env.close()"
   ]
  },
  {
   "cell_type": "code",
   "execution_count": null,
   "metadata": {},
   "outputs": [],
   "source": []
  }
 ],
 "metadata": {
  "kernelspec": {
   "display_name": "Python 3",
   "language": "python",
   "name": "python3"
  },
  "language_info": {
   "codemirror_mode": {
    "name": "ipython",
    "version": 3
   },
   "file_extension": ".py",
   "mimetype": "text/x-python",
   "name": "python",
   "nbconvert_exporter": "python",
   "pygments_lexer": "ipython3",
   "version": "3.6.5"
  }
 },
 "nbformat": 4,
 "nbformat_minor": 4
}
